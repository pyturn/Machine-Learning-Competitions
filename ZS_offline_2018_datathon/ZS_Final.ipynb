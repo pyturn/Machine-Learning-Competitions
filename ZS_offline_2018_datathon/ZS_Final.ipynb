{
 "cells": [
  {
   "cell_type": "markdown",
   "metadata": {},
   "source": [
    "## Reading Data"
   ]
  },
  {
   "cell_type": "code",
   "execution_count": 75,
   "metadata": {},
   "outputs": [],
   "source": [
    "import pandas as pd\n",
    "import numpy as np\n",
    "import matplotlib.pyplot as plt\n",
    "import numbers\n",
    "\n",
    "Train_df = pd.read_csv('train.csv')\n",
    "Demog = pd.read_csv('demog.csv')\n",
    "Submission = pd.read_csv('submission.csv')"
   ]
  },
  {
   "cell_type": "code",
   "execution_count": 76,
   "metadata": {},
   "outputs": [
    {
     "name": "stdout",
     "output_type": "stream",
     "text": [
      "Tarin Data Shape  (37186, 12)\n",
      "Demog Data Shape  (46485, 3)\n",
      "Submisison Data Shape (37186, 9)\n"
     ]
    }
   ],
   "source": [
    "print(\"Train Data Shape \",Train_df.shape)\n",
    "print(\"Demog Data Shape \",Demog.shape)\n",
    "print(\"Submisison Data Shape\", Submission.shape)"
   ]
  },
  {
   "cell_type": "code",
   "execution_count": 77,
   "metadata": {},
   "outputs": [
    {
     "data": {
      "text/html": [
       "<div>\n",
       "<style scoped>\n",
       "    .dataframe tbody tr th:only-of-type {\n",
       "        vertical-align: middle;\n",
       "    }\n",
       "\n",
       "    .dataframe tbody tr th {\n",
       "        vertical-align: top;\n",
       "    }\n",
       "\n",
       "    .dataframe thead th {\n",
       "        text-align: right;\n",
       "    }\n",
       "</style>\n",
       "<table border=\"1\" class=\"dataframe\">\n",
       "  <thead>\n",
       "    <tr style=\"text-align: right;\">\n",
       "      <th></th>\n",
       "      <th>HCP_ID</th>\n",
       "      <th>RL</th>\n",
       "      <th>P2P</th>\n",
       "      <th>OLV</th>\n",
       "      <th>RR</th>\n",
       "      <th>DRT</th>\n",
       "      <th>DMS</th>\n",
       "      <th>OLA</th>\n",
       "      <th>DEM</th>\n",
       "      <th>Region</th>\n",
       "      <th>Value</th>\n",
       "      <th>Speciality_ID</th>\n",
       "    </tr>\n",
       "  </thead>\n",
       "  <tbody>\n",
       "    <tr>\n",
       "      <th>0</th>\n",
       "      <td>9304</td>\n",
       "      <td>0.645833</td>\n",
       "      <td>0.475755</td>\n",
       "      <td>NaN</td>\n",
       "      <td>NaN</td>\n",
       "      <td>0.0</td>\n",
       "      <td>0.169355</td>\n",
       "      <td>NaN</td>\n",
       "      <td>0.004458</td>\n",
       "      <td>urban</td>\n",
       "      <td>H</td>\n",
       "      <td>307999</td>\n",
       "    </tr>\n",
       "    <tr>\n",
       "      <th>1</th>\n",
       "      <td>9305</td>\n",
       "      <td>0.419355</td>\n",
       "      <td>0.190302</td>\n",
       "      <td>NaN</td>\n",
       "      <td>0.115167</td>\n",
       "      <td>0.0</td>\n",
       "      <td>0.012195</td>\n",
       "      <td>NaN</td>\n",
       "      <td>0.000000</td>\n",
       "      <td>urban</td>\n",
       "      <td>H</td>\n",
       "      <td>307999</td>\n",
       "    </tr>\n",
       "    <tr>\n",
       "      <th>2</th>\n",
       "      <td>9306</td>\n",
       "      <td>1.000000</td>\n",
       "      <td>NaN</td>\n",
       "      <td>NaN</td>\n",
       "      <td>0.134362</td>\n",
       "      <td>0.0</td>\n",
       "      <td>0.149254</td>\n",
       "      <td>0.129584</td>\n",
       "      <td>0.113179</td>\n",
       "      <td>urban</td>\n",
       "      <td>L</td>\n",
       "      <td>307999</td>\n",
       "    </tr>\n",
       "    <tr>\n",
       "      <th>3</th>\n",
       "      <td>9307</td>\n",
       "      <td>0.564102</td>\n",
       "      <td>NaN</td>\n",
       "      <td>0.054703</td>\n",
       "      <td>0.076778</td>\n",
       "      <td>NaN</td>\n",
       "      <td>0.138889</td>\n",
       "      <td>0.158047</td>\n",
       "      <td>0.002574</td>\n",
       "      <td>urban</td>\n",
       "      <td>H</td>\n",
       "      <td>307999</td>\n",
       "    </tr>\n",
       "    <tr>\n",
       "      <th>4</th>\n",
       "      <td>9308</td>\n",
       "      <td>0.584906</td>\n",
       "      <td>NaN</td>\n",
       "      <td>0.145874</td>\n",
       "      <td>0.383891</td>\n",
       "      <td>0.0</td>\n",
       "      <td>0.198198</td>\n",
       "      <td>0.125850</td>\n",
       "      <td>0.044009</td>\n",
       "      <td>urban</td>\n",
       "      <td>H</td>\n",
       "      <td>307999</td>\n",
       "    </tr>\n",
       "  </tbody>\n",
       "</table>\n",
       "</div>"
      ],
      "text/plain": [
       "   HCP_ID        RL       P2P       OLV        RR  DRT       DMS       OLA  \\\n",
       "0    9304  0.645833  0.475755       NaN       NaN  0.0  0.169355       NaN   \n",
       "1    9305  0.419355  0.190302       NaN  0.115167  0.0  0.012195       NaN   \n",
       "2    9306  1.000000       NaN       NaN  0.134362  0.0  0.149254  0.129584   \n",
       "3    9307  0.564102       NaN  0.054703  0.076778  NaN  0.138889  0.158047   \n",
       "4    9308  0.584906       NaN  0.145874  0.383891  0.0  0.198198  0.125850   \n",
       "\n",
       "        DEM Region Value  Speciality_ID  \n",
       "0  0.004458  urban     H         307999  \n",
       "1  0.000000  urban     H         307999  \n",
       "2  0.113179  urban     L         307999  \n",
       "3  0.002574  urban     H         307999  \n",
       "4  0.044009  urban     H         307999  "
      ]
     },
     "execution_count": 77,
     "metadata": {},
     "output_type": "execute_result"
    }
   ],
   "source": [
    "Train_df.head()"
   ]
  },
  {
   "cell_type": "code",
   "execution_count": 78,
   "metadata": {},
   "outputs": [
    {
     "data": {
      "text/plain": [
       "HCP_ID               0\n",
       "RL                4849\n",
       "P2P              29136\n",
       "OLV              17027\n",
       "RR                9648\n",
       "DRT               4492\n",
       "DMS               4379\n",
       "OLA              11170\n",
       "DEM              11040\n",
       "Region               0\n",
       "Value                0\n",
       "Speciality_ID        0\n",
       "dtype: int64"
      ]
     },
     "execution_count": 78,
     "metadata": {},
     "output_type": "execute_result"
    }
   ],
   "source": [
    "Train_df.isnull().sum()"
   ]
  },
  {
   "cell_type": "code",
   "execution_count": 79,
   "metadata": {},
   "outputs": [
    {
     "data": {
      "text/html": [
       "<div>\n",
       "<style scoped>\n",
       "    .dataframe tbody tr th:only-of-type {\n",
       "        vertical-align: middle;\n",
       "    }\n",
       "\n",
       "    .dataframe tbody tr th {\n",
       "        vertical-align: top;\n",
       "    }\n",
       "\n",
       "    .dataframe thead th {\n",
       "        text-align: right;\n",
       "    }\n",
       "</style>\n",
       "<table border=\"1\" class=\"dataframe\">\n",
       "  <thead>\n",
       "    <tr style=\"text-align: right;\">\n",
       "      <th></th>\n",
       "      <th>HCP_ID</th>\n",
       "      <th>gender</th>\n",
       "      <th>Age</th>\n",
       "    </tr>\n",
       "  </thead>\n",
       "  <tbody>\n",
       "    <tr>\n",
       "      <th>0</th>\n",
       "      <td>14586</td>\n",
       "      <td>FEMALE</td>\n",
       "      <td>34</td>\n",
       "    </tr>\n",
       "    <tr>\n",
       "      <th>1</th>\n",
       "      <td>46157</td>\n",
       "      <td>MALE</td>\n",
       "      <td>34</td>\n",
       "    </tr>\n",
       "    <tr>\n",
       "      <th>2</th>\n",
       "      <td>16600</td>\n",
       "      <td>MALE</td>\n",
       "      <td>34</td>\n",
       "    </tr>\n",
       "    <tr>\n",
       "      <th>3</th>\n",
       "      <td>16601</td>\n",
       "      <td>MALE</td>\n",
       "      <td>33</td>\n",
       "    </tr>\n",
       "    <tr>\n",
       "      <th>4</th>\n",
       "      <td>16602</td>\n",
       "      <td>FEMALE</td>\n",
       "      <td>33</td>\n",
       "    </tr>\n",
       "  </tbody>\n",
       "</table>\n",
       "</div>"
      ],
      "text/plain": [
       "   HCP_ID  gender  Age\n",
       "0   14586  FEMALE   34\n",
       "1   46157    MALE   34\n",
       "2   16600    MALE   34\n",
       "3   16601    MALE   33\n",
       "4   16602  FEMALE   33"
      ]
     },
     "execution_count": 79,
     "metadata": {},
     "output_type": "execute_result"
    }
   ],
   "source": [
    "Demog.head()"
   ]
  },
  {
   "cell_type": "code",
   "execution_count": 47,
   "metadata": {},
   "outputs": [
    {
     "name": "stdout",
     "output_type": "stream",
     "text": [
      "Train Data Columns\n",
      " Index(['HCP_ID', 'RL', 'P2P', 'OLV', 'RR', 'DRT', 'DMS', 'OLA', 'DEM',\n",
      "       'Region', 'Value', 'Speciality_ID'],\n",
      "      dtype='object')\n",
      "\n",
      "\n",
      "Submission Data Columns\n",
      " Index(['HCP_ID', 'RL', 'P2P', 'OLV', 'RR', 'DRT', 'DMS', 'OLA', 'DEM'], dtype='object')\n"
     ]
    }
   ],
   "source": [
    "print(\"Train Data Columns\\n\", Train_df.columns)\n",
    "print(\"\\n\\nSubmission Data Columns\\n\", Submission.columns)"
   ]
  },
  {
   "cell_type": "markdown",
   "metadata": {},
   "source": [
    "## Percentage Of Null in Each Column"
   ]
  },
  {
   "cell_type": "code",
   "execution_count": 80,
   "metadata": {},
   "outputs": [],
   "source": [
    "def get_percentage_missing(series):\n",
    "    \"\"\" Calculates percentage of NaN values in DataFrame\n",
    "    :param series: Pandas DataFrame object\n",
    "    :return: float\n",
    "    \"\"\"\n",
    "    num = series.isnull().sum()\n",
    "    den = len(series)\n",
    "    \n",
    "    return round(num/den, 2)"
   ]
  },
  {
   "cell_type": "code",
   "execution_count": 81,
   "metadata": {},
   "outputs": [
    {
     "data": {
      "text/plain": [
       "Text(0,0.5,'Percentage of NUll Data')"
      ]
     },
     "execution_count": 81,
     "metadata": {},
     "output_type": "execute_result"
    },
    {
     "data": {
      "image/png": "[encoded data removed]",
      "text/plain": [
       "<Figure size 432x288 with 1 Axes>"
      ]
     },
     "metadata": {},
     "output_type": "display_data"
    },
    {
     "data": {
      "image/png": "[encoded data removed]",
      "text/plain": [
       "<Figure size 432x288 with 1 Axes>"
      ]
     },
     "metadata": {},
     "output_type": "display_data"
    }
   ],
   "source": [
    "df_with_any_null_values = Train_df[Train_df.columns[Train_df.isnull().any()].tolist()]\n",
    "s = get_percentage_missing(df_with_any_null_values)\n",
    "plt.figure()\n",
    "s.plot.bar()\n",
    "plt.title('Null Data in Train Dataset')\n",
    "plt.xlabel('Channels')\n",
    "plt.ylabel('Percentage of NUll Data')\n",
    "\n",
    "\n",
    "\n",
    "df_with_any_null_values = Submission[Submission.columns[Submission.isnull().any()].tolist()]\n",
    "s = get_percentage_missing(df_with_any_null_values)\n",
    "plt.figure()\n",
    "s.plot.bar()\n",
    "plt.title('Null Data in Submission Dataset')\n",
    "plt.xlabel('Channels')\n",
    "plt.ylabel('Percentage of NUll Data')\n",
    "\n"
   ]
  },
  {
   "cell_type": "markdown",
   "metadata": {},
   "source": [
    "## Merge The given files and do the analysis"
   ]
  },
  {
   "cell_type": "code",
   "execution_count": 82,
   "metadata": {},
   "outputs": [
    {
     "name": "stdout",
     "output_type": "stream",
     "text": [
      "RL        0.13\n",
      "P2P       0.78\n",
      "OLV       0.46\n",
      "RR        0.26\n",
      "DRT       0.12\n",
      "DMS       0.12\n",
      "OLA       0.30\n",
      "DEM       0.30\n",
      "gender    0.00\n",
      "dtype: float64\n",
      "RL        0.13\n",
      "P2P       0.78\n",
      "OLV       0.46\n",
      "RR        0.26\n",
      "DRT       0.12\n",
      "DMS       0.12\n",
      "OLA       0.30\n",
      "DEM       0.30\n",
      "gender    0.00\n",
      "dtype: float64\n"
     ]
    },
    {
     "data": {
      "text/plain": [
       "Text(0,0.5,'Percentage of NUll Data')"
      ]
     },
     "execution_count": 82,
     "metadata": {},
     "output_type": "execute_result"
    },
    {
     "data": {
      "image/png": "[encoded data removed]",
      "text/plain": [
       "<Figure size 432x288 with 1 Axes>"
      ]
     },
     "metadata": {},
     "output_type": "display_data"
    },
    {
     "data": {
      "image/png": "[encoded data removed]",
      "text/plain": [
       "<Figure size 432x288 with 1 Axes>"
      ]
     },
     "metadata": {},
     "output_type": "display_data"
    }
   ],
   "source": [
    "## Merging Demographic File to train and submission both files\n",
    "Train = pd.merge(Train_df ,Demog,  on = ['HCP_ID'], how = 'left')\n",
    "df_with_any_null_values = Train[Train.columns[Train.isnull().any()].tolist()]\n",
    "s = get_percentage_missing(df_with_any_null_values)\n",
    "print(s)\n",
    "plt.figure()\n",
    "s.plot.bar()\n",
    "plt.title('Null Data in Train Dataset After Merging Demographics File')\n",
    "plt.xlabel('Channels')\n",
    "plt.ylabel('Percentage of NUll Data')\n",
    "\n",
    "Submission_Merge = pd.merge(Submission ,Demog,  on = ['HCP_ID'], how = 'left')\n",
    "df_with_any_null_values = Submission_Merge[Submission_Merge.columns[Submission_Merge.isnull().any()].tolist()]\n",
    "s = get_percentage_missing(df_with_any_null_values)\n",
    "print(s)\n",
    "plt.figure()\n",
    "s.plot.bar()\n",
    "plt.title('Null Data in Submission Dataset After Merging Demographics File')\n",
    "plt.xlabel('Channels')\n",
    "plt.ylabel('Percentage of NUll Data')"
   ]
  },
  {
   "cell_type": "code",
   "execution_count": 83,
   "metadata": {},
   "outputs": [
    {
     "data": {
      "text/plain": [
       "Index(['HCP_ID', 'RL', 'P2P', 'OLV', 'RR', 'DRT', 'DMS', 'OLA', 'DEM',\n",
       "       'Region', 'Value', 'Speciality_ID', 'gender', 'Age'],\n",
       "      dtype='object')"
      ]
     },
     "execution_count": 83,
     "metadata": {},
     "output_type": "execute_result"
    }
   ],
   "source": [
    "Train.columns"
   ]
  },
  {
   "cell_type": "markdown",
   "metadata": {},
   "source": [
    "## Using K Means Cluster and Fitting DMS Values\n",
    "\n",
    "Filling DMS first because it have minimum ratio of NULL Data\n",
    "\n",
    "I am using *K-Means-Clustering*. Hence what I am doing is assigning clusters to each column and then replacing the null columns by the mean/median of clusters.For **cross-validating** I am predicting the non-null values, by its cluster mean/median and then calculating the mean-squared error. "
   ]
  },
  {
   "cell_type": "code",
   "execution_count": 84,
   "metadata": {},
   "outputs": [
    {
     "name": "stderr",
     "output_type": "stream",
     "text": [
      "C:\\ProgramData\\Anaconda3\\lib\\site-packages\\ipykernel_launcher.py:9: SettingWithCopyWarning: \n",
      "A value is trying to be set on a copy of a slice from a DataFrame.\n",
      "Try using .loc[row_indexer,col_indexer] = value instead\n",
      "\n",
      "See the caveats in the documentation: http://pandas.pydata.org/pandas-docs/stable/indexing.html#indexing-view-versus-copy\n",
      "  if __name__ == '__main__':\n"
     ]
    },
    {
     "data": {
      "image/png": "[encoded data removed]",
      "text/plain": [
       "<Figure size 432x288 with 1 Axes>"
      ]
     },
     "metadata": {},
     "output_type": "display_data"
    },
    {
     "name": "stdout",
     "output_type": "stream",
     "text": [
      "Cross Validating with median\n",
      "0.1844100247121296\n",
      "Cross Validating with mean\n",
      "0.17432710011991617\n"
     ]
    },
    {
     "name": "stderr",
     "output_type": "stream",
     "text": [
      "C:\\ProgramData\\Anaconda3\\lib\\site-packages\\ipykernel_launcher.py:30: SettingWithCopyWarning: \n",
      "A value is trying to be set on a copy of a slice from a DataFrame.\n",
      "Try using .loc[row_indexer,col_indexer] = value instead\n",
      "\n",
      "See the caveats in the documentation: http://pandas.pydata.org/pandas-docs/stable/indexing.html#indexing-view-versus-copy\n"
     ]
    }
   ],
   "source": [
    "# Lets's separate the data set having missing values\n",
    "Train_DMS = Train[['Region','Value','Age','gender','DMS','Speciality_ID']]\n",
    "Train_DMS['gender'].fillna('Male')\n",
    "\n",
    "cols = ['Region','Value','gender']\n",
    "from sklearn.preprocessing import LabelEncoder\n",
    "for x in cols:\n",
    "    lbl = LabelEncoder()\n",
    "    Train_DMS[x]=lbl.fit_transform(Train_DMS[x].astype(str))\n",
    "X = Train_DMS[['Region','Value','Age','gender','Speciality_ID']]\n",
    "\n",
    "from sklearn.cluster import KMeans\n",
    "wcss = []\n",
    "for i in range(1, 11):\n",
    "    kmeans = KMeans(n_clusters = i, init = 'k-means++', random_state = 42)\n",
    "    kmeans.fit(X.values)\n",
    "    wcss.append(kmeans.inertia_)\n",
    "\n",
    "plt.figure()\n",
    "plt.plot(range(1, 11), wcss)\n",
    "plt.title('The Elbow Method')\n",
    "plt.xlabel('Number of clusters')\n",
    "plt.ylabel('WCSS')\n",
    "plt.show()\n",
    "\n",
    "# Fitting K-Means to the dataset\n",
    "kmeans = KMeans(n_clusters = 3, init = 'k-means++', random_state = 42)\n",
    "y_kmeans = kmeans.fit_predict(X.values)\n",
    "\n",
    "Train_DMS['cluster'] = y_kmeans\n",
    "Train_DMS_NOT_Null = Train_DMS[Train_DMS['DMS'].isnull() == False]\n",
    "\n",
    "print(\"Cross Validating with median\")\n",
    "y = Train_DMS_NOT_Null.groupby(\"cluster\")[\"DMS\"].transform(lambda x: x.median())\n",
    "from sklearn.metrics import mean_squared_error\n",
    "from math import sqrt\n",
    "meanSquaredError=sqrt(mean_squared_error(y,Train_DMS_NOT_Null['DMS']))\n",
    "print(meanSquaredError)\n",
    "\n",
    "print(\"Cross Validating with mean\")\n",
    "y = Train_DMS_NOT_Null.groupby(\"cluster\")[\"DMS\"].transform(lambda x: x.mean())\n",
    "from sklearn.metrics import mean_squared_error\n",
    "from math import sqrt\n",
    "meanSquaredError=sqrt(mean_squared_error(y,Train_DMS_NOT_Null['DMS']))\n",
    "print(meanSquaredError)"
   ]
  },
  {
   "cell_type": "code",
   "execution_count": 121,
   "metadata": {},
   "outputs": [
    {
     "data": {
      "text/plain": [
       "[<matplotlib.lines.Line2D at 0x179b19ea630>]"
      ]
     },
     "execution_count": 121,
     "metadata": {},
     "output_type": "execute_result"
    },
    {
     "data": {
      "image/png": "[encoded data removed]",
      "text/plain": [
       "<Figure size 432x288 with 1 Axes>"
      ]
     },
     "metadata": {},
     "output_type": "display_data"
    }
   ],
   "source": [
    "plt.plot(Train_DMS['DMS'])"
   ]
  },
  {
   "cell_type": "code",
   "execution_count": 85,
   "metadata": {},
   "outputs": [
    {
     "name": "stderr",
     "output_type": "stream",
     "text": [
      "C:\\ProgramData\\Anaconda3\\lib\\site-packages\\ipykernel_launcher.py:2: SettingWithCopyWarning: \n",
      "A value is trying to be set on a copy of a slice from a DataFrame.\n",
      "Try using .loc[row_indexer,col_indexer] = value instead\n",
      "\n",
      "See the caveats in the documentation: http://pandas.pydata.org/pandas-docs/stable/indexing.html#indexing-view-versus-copy\n",
      "  \n"
     ]
    }
   ],
   "source": [
    "# Updating Train Dataset\n",
    "Train_DMS['DMS'] = Train_DMS.groupby(\"cluster\")[\"DMS\"].transform(lambda x: x.fillna(x.mean()))\n",
    "Train_df['DMS'] = Train_DMS['DMS']\n",
    "Train['DMS'] = Train_df['DMS']"
   ]
  },
  {
   "cell_type": "markdown",
   "metadata": {},
   "source": [
    "## Filling DRT Value"
   ]
  },
  {
   "cell_type": "code",
   "execution_count": 86,
   "metadata": {},
   "outputs": [
    {
     "name": "stderr",
     "output_type": "stream",
     "text": [
      "C:\\ProgramData\\Anaconda3\\lib\\site-packages\\ipykernel_launcher.py:21: SettingWithCopyWarning: \n",
      "A value is trying to be set on a copy of a slice from a DataFrame.\n",
      "Try using .loc[row_indexer,col_indexer] = value instead\n",
      "\n",
      "See the caveats in the documentation: http://pandas.pydata.org/pandas-docs/stable/indexing.html#indexing-view-versus-copy\n"
     ]
    },
    {
     "data": {
      "image/png": "[encoded data removed]",
      "text/plain": [
       "<Figure size 432x288 with 2 Axes>"
      ]
     },
     "metadata": {},
     "output_type": "display_data"
    },
    {
     "data": {
      "image/png": "[encoded data removed]",
      "text/plain": [
       "<Figure size 432x288 with 1 Axes>"
      ]
     },
     "metadata": {},
     "output_type": "display_data"
    },
    {
     "name": "stdout",
     "output_type": "stream",
     "text": [
      "Cross Validating with median\n",
      "0.10177125292739858\n",
      "Cross Validating with mean\n",
      "0.09487081707868121\n"
     ]
    },
    {
     "name": "stderr",
     "output_type": "stream",
     "text": [
      "C:\\ProgramData\\Anaconda3\\lib\\site-packages\\ipykernel_launcher.py:42: SettingWithCopyWarning: \n",
      "A value is trying to be set on a copy of a slice from a DataFrame.\n",
      "Try using .loc[row_indexer,col_indexer] = value instead\n",
      "\n",
      "See the caveats in the documentation: http://pandas.pydata.org/pandas-docs/stable/indexing.html#indexing-view-versus-copy\n"
     ]
    }
   ],
   "source": [
    "# Lets's separate the data set having missing values\n",
    "Train_DRT = Train[['Region','Value','Age','gender','DMS','DRT','Speciality_ID']]\n",
    "Train_DRT['gender'].fillna('Male')\n",
    "Train_DRT_Null = Train_DRT[Train_DRT['DRT'].isnull()]\n",
    "Train_DRT_NOT_Null = Train_DRT[Train_DRT['DRT'].isnull() == False]\n",
    "\n",
    "\n",
    "# Import Seaborn as sns\n",
    "import seaborn as sns\n",
    "corr = Train_DRT_NOT_Null.corr()\n",
    "sns.heatmap(corr, \n",
    "        xticklabels=corr.columns,\n",
    "        yticklabels=corr.columns)\n",
    "# No correlation So let's carry out other methods \n",
    "# Mapping categorical variables. I don't think there is need of one hot encoding as the categorival data seems to be ordinal here.\n",
    "\n",
    "cols = ['Region','Value','gender']\n",
    "from sklearn.preprocessing import LabelEncoder\n",
    "for x in cols:\n",
    "    lbl = LabelEncoder()\n",
    "    Train_DRT[x]=lbl.fit_transform(Train_DRT[x].astype(str))\n",
    "X = Train_DRT[['Region','Value','Age','gender','DMS','Speciality_ID']]\n",
    "\n",
    "from sklearn.cluster import KMeans\n",
    "wcss = []\n",
    "for i in range(1, 11):\n",
    "    kmeans = KMeans(n_clusters = i, init = 'k-means++', random_state = 42)\n",
    "    kmeans.fit(X.values)\n",
    "    wcss.append(kmeans.inertia_)\n",
    "\n",
    "plt.figure()    \n",
    "plt.plot(range(1, 11), wcss)\n",
    "plt.title('The Elbow Method')\n",
    "plt.xlabel('Number of clusters')\n",
    "plt.ylabel('WCSS')\n",
    "plt.show()\n",
    "\n",
    "# Fitting K-Means to the dataset\n",
    "kmeans = KMeans(n_clusters = 3, init = 'k-means++', random_state = 42)\n",
    "y_kmeans = kmeans.fit_predict(X.values)\n",
    "\n",
    "Train_DRT['cluster'] = y_kmeans\n",
    "Train_DRT_NOT_Null = Train_DRT[Train_DRT['DRT'].isnull() == False]\n",
    "\n",
    "print(\"Cross Validating with median\")\n",
    "y = Train_DRT_NOT_Null.groupby(\"cluster\")[\"DRT\"].transform(lambda x: x.median())\n",
    "meanSquaredError=sqrt(mean_squared_error(y,Train_DRT_NOT_Null['DRT']))\n",
    "print(meanSquaredError)\n",
    "\n",
    "print(\"Cross Validating with mean\")\n",
    "y = Train_DRT_NOT_Null.groupby(\"cluster\")[\"DRT\"].transform(lambda x: x.mean())\n",
    "meanSquaredError=sqrt(mean_squared_error(y,Train_DRT_NOT_Null['DRT']))\n",
    "print(meanSquaredError)"
   ]
  },
  {
   "cell_type": "code",
   "execution_count": 87,
   "metadata": {},
   "outputs": [
    {
     "name": "stderr",
     "output_type": "stream",
     "text": [
      "C:\\ProgramData\\Anaconda3\\lib\\site-packages\\ipykernel_launcher.py:1: SettingWithCopyWarning: \n",
      "A value is trying to be set on a copy of a slice from a DataFrame.\n",
      "Try using .loc[row_indexer,col_indexer] = value instead\n",
      "\n",
      "See the caveats in the documentation: http://pandas.pydata.org/pandas-docs/stable/indexing.html#indexing-view-versus-copy\n",
      "  \"\"\"Entry point for launching an IPython kernel.\n"
     ]
    }
   ],
   "source": [
    "Train_DRT['DRT'] = Train_DRT.groupby(\"cluster\")[\"DRT\"].transform(lambda x: x.fillna(x.mean()))\n",
    "Train_df['DRT'] = Train_DRT['DRT']\n",
    "Train['DRT'] = Train_df['DRT']"
   ]
  },
  {
   "cell_type": "code",
   "execution_count": 123,
   "metadata": {},
   "outputs": [
    {
     "data": {
      "text/plain": [
       "[<matplotlib.lines.Line2D at 0x179ad0ed9e8>]"
      ]
     },
     "execution_count": 123,
     "metadata": {},
     "output_type": "execute_result"
    },
    {
     "data": {
      "image/png": "[encoded data removed]",
      "text/plain": [
       "<Figure size 432x288 with 1 Axes>"
      ]
     },
     "metadata": {},
     "output_type": "display_data"
    }
   ],
   "source": [
    "plt.plot(Train_DRT['DRT'])"
   ]
  },
  {
   "cell_type": "markdown",
   "metadata": {},
   "source": [
    "## Filling RL Values"
   ]
  },
  {
   "cell_type": "code",
   "execution_count": 88,
   "metadata": {},
   "outputs": [
    {
     "name": "stderr",
     "output_type": "stream",
     "text": [
      "C:\\ProgramData\\Anaconda3\\lib\\site-packages\\ipykernel_launcher.py:21: SettingWithCopyWarning: \n",
      "A value is trying to be set on a copy of a slice from a DataFrame.\n",
      "Try using .loc[row_indexer,col_indexer] = value instead\n",
      "\n",
      "See the caveats in the documentation: http://pandas.pydata.org/pandas-docs/stable/indexing.html#indexing-view-versus-copy\n"
     ]
    },
    {
     "data": {
      "image/png": "[encoded data removed]",
      "text/plain": [
       "<Figure size 432x288 with 2 Axes>"
      ]
     },
     "metadata": {},
     "output_type": "display_data"
    },
    {
     "data": {
      "image/png": "[encoded data removed]",
      "text/plain": [
       "<Figure size 432x288 with 1 Axes>"
      ]
     },
     "metadata": {},
     "output_type": "display_data"
    },
    {
     "name": "stdout",
     "output_type": "stream",
     "text": [
      "Cross Validating with median\n",
      "0.18525500387304467\n",
      "Cross Validating with mean\n",
      "0.18308963992898802\n"
     ]
    },
    {
     "name": "stderr",
     "output_type": "stream",
     "text": [
      "C:\\ProgramData\\Anaconda3\\lib\\site-packages\\ipykernel_launcher.py:41: SettingWithCopyWarning: \n",
      "A value is trying to be set on a copy of a slice from a DataFrame.\n",
      "Try using .loc[row_indexer,col_indexer] = value instead\n",
      "\n",
      "See the caveats in the documentation: http://pandas.pydata.org/pandas-docs/stable/indexing.html#indexing-view-versus-copy\n"
     ]
    }
   ],
   "source": [
    "# Lets's separate the data set having missing values\n",
    "Train_RL = Train[['Region','Value','Age','gender','DMS','DRT','RL','Speciality_ID']]\n",
    "Train_RL['gender'].fillna('Male')\n",
    "Train_RL_Null = Train_RL[Train_RL['RL'].isnull()]\n",
    "Train_RL_NOT_Null = Train_RL[Train_RL['RL'].isnull() == False]\n",
    "\n",
    "\n",
    "# Import Seaborn as sns\n",
    "import seaborn as sns\n",
    "corr = Train_RL.corr()\n",
    "sns.heatmap(corr, \n",
    "        xticklabels=corr.columns,\n",
    "        yticklabels=corr.columns)\n",
    "# No correlation So let's carry out other methods \n",
    "# Mapping categorical variables. I don't think there is need of one hot encoding as the categorival data seems to be ordinal here.\n",
    "\n",
    "cols = ['Region','Value','gender']\n",
    "from sklearn.preprocessing import LabelEncoder\n",
    "for x in cols:\n",
    "    lbl = LabelEncoder()\n",
    "    Train_RL[x]=lbl.fit_transform(Train_RL[x].astype(str))\n",
    "X = Train_RL[['Region','Value','Age','gender','DMS','DRT','Speciality_ID']]\n",
    "\n",
    "from sklearn.cluster import KMeans\n",
    "wcss = []\n",
    "for i in range(1, 11):\n",
    "    kmeans = KMeans(n_clusters = i, init = 'k-means++', random_state = 42)\n",
    "    kmeans.fit(X.values)\n",
    "    wcss.append(kmeans.inertia_)\n",
    "\n",
    "plt.figure()    \n",
    "plt.plot(range(1, 11), wcss)\n",
    "plt.title('The Elbow Method')\n",
    "plt.xlabel('Number of clusters')\n",
    "plt.ylabel('WCSS')\n",
    "plt.show()\n",
    "\n",
    "#Fitting K-Means to the dataset\n",
    "kmeans = KMeans(n_clusters = 3, init = 'k-means++', random_state = 42)\n",
    "y_kmeans = kmeans.fit_predict(X.values)\n",
    "Train_RL['cluster'] = y_kmeans\n",
    "Train_RL_NOT_Null = Train_RL[Train_RL['RL'].isnull() == False]\n",
    "\n",
    "print(\"Cross Validating with median\")\n",
    "y = Train_RL_NOT_Null.groupby(\"cluster\")[\"RL\"].transform(lambda x: x.median())\n",
    "meanSquaredError=sqrt(mean_squared_error(y,Train_RL_NOT_Null['RL']))\n",
    "print(meanSquaredError)\n",
    "\n",
    "print(\"Cross Validating with mean\")\n",
    "y = Train_RL_NOT_Null.groupby(\"cluster\")[\"RL\"].transform(lambda x: x.mean())\n",
    "meanSquaredError=sqrt(mean_squared_error(y,Train_RL_NOT_Null['RL']))\n",
    "print(meanSquaredError)\n"
   ]
  },
  {
   "cell_type": "code",
   "execution_count": 89,
   "metadata": {},
   "outputs": [
    {
     "name": "stderr",
     "output_type": "stream",
     "text": [
      "C:\\ProgramData\\Anaconda3\\lib\\site-packages\\ipykernel_launcher.py:1: SettingWithCopyWarning: \n",
      "A value is trying to be set on a copy of a slice from a DataFrame.\n",
      "Try using .loc[row_indexer,col_indexer] = value instead\n",
      "\n",
      "See the caveats in the documentation: http://pandas.pydata.org/pandas-docs/stable/indexing.html#indexing-view-versus-copy\n",
      "  \"\"\"Entry point for launching an IPython kernel.\n"
     ]
    }
   ],
   "source": [
    "Train_RL['RL'] = Train_RL.groupby(\"cluster\")[\"RL\"].transform(lambda x: x.fillna(x.mean()))\n",
    "Train_df['RL'] = Train_RL['RL']\n",
    "Train['RL'] = Train_df['RL']"
   ]
  },
  {
   "cell_type": "code",
   "execution_count": 124,
   "metadata": {},
   "outputs": [
    {
     "data": {
      "text/plain": [
       "[<matplotlib.lines.Line2D at 0x179ad1dae48>]"
      ]
     },
     "execution_count": 124,
     "metadata": {},
     "output_type": "execute_result"
    },
    {
     "data": {
      "image/png": "[encoded data removed]",
      "text/plain": [
       "<Figure size 432x288 with 1 Axes>"
      ]
     },
     "metadata": {},
     "output_type": "display_data"
    }
   ],
   "source": [
    "plt.plot(Train_RL['RL'])"
   ]
  },
  {
   "cell_type": "markdown",
   "metadata": {},
   "source": [
    "## Filling RR Values"
   ]
  },
  {
   "cell_type": "code",
   "execution_count": 90,
   "metadata": {},
   "outputs": [
    {
     "name": "stderr",
     "output_type": "stream",
     "text": [
      "C:\\ProgramData\\Anaconda3\\lib\\site-packages\\ipykernel_launcher.py:21: SettingWithCopyWarning: \n",
      "A value is trying to be set on a copy of a slice from a DataFrame.\n",
      "Try using .loc[row_indexer,col_indexer] = value instead\n",
      "\n",
      "See the caveats in the documentation: http://pandas.pydata.org/pandas-docs/stable/indexing.html#indexing-view-versus-copy\n"
     ]
    },
    {
     "data": {
      "image/png": "[encoded data removed]",
      "text/plain": [
       "<Figure size 432x288 with 2 Axes>"
      ]
     },
     "metadata": {},
     "output_type": "display_data"
    },
    {
     "data": {
      "image/png": "[encoded data removed]",
      "text/plain": [
       "<Figure size 432x288 with 1 Axes>"
      ]
     },
     "metadata": {},
     "output_type": "display_data"
    },
    {
     "name": "stdout",
     "output_type": "stream",
     "text": [
      "Cross Validating with median\n",
      "0.20405826595154655\n",
      "Cross Validating with mean\n",
      "0.19652308178920935\n"
     ]
    },
    {
     "name": "stderr",
     "output_type": "stream",
     "text": [
      "C:\\ProgramData\\Anaconda3\\lib\\site-packages\\ipykernel_launcher.py:42: SettingWithCopyWarning: \n",
      "A value is trying to be set on a copy of a slice from a DataFrame.\n",
      "Try using .loc[row_indexer,col_indexer] = value instead\n",
      "\n",
      "See the caveats in the documentation: http://pandas.pydata.org/pandas-docs/stable/indexing.html#indexing-view-versus-copy\n"
     ]
    }
   ],
   "source": [
    "# Lets's separate the data set having missing values\n",
    "Train_RR = Train[['Region','Value','Age','gender','DMS','DRT','RL','RR','Speciality_ID']]\n",
    "Train_RR['gender'].fillna('Male')\n",
    "Train_RR_Null = Train_RR[Train_RR['RR'].isnull()]\n",
    "Train_RR_NOT_Null = Train_RR[Train_RR['RR'].isnull() == False]\n",
    "\n",
    "\n",
    "# Import Seaborn as sns\n",
    "import seaborn as sns\n",
    "corr = Train_RR.corr()\n",
    "sns.heatmap(corr, \n",
    "        xticklabels=corr.columns,\n",
    "        yticklabels=corr.columns)\n",
    "# No correlation So let's carry out other methods \n",
    "# Mapping categorical variables. I don't think there is need of one hot encoding as the categorival data seems to be ordinal here.\n",
    "\n",
    "cols = ['Region','Value','gender']\n",
    "from sklearn.preprocessing import LabelEncoder\n",
    "for x in cols:\n",
    "    lbl = LabelEncoder()\n",
    "    Train_RR[x]=lbl.fit_transform(Train_RR[x].astype(str))\n",
    "X = Train_RR[['Region','Value','Age','gender','DMS','DRT','RL','Speciality_ID']]\n",
    "\n",
    "from sklearn.cluster import KMeans\n",
    "wcss = []\n",
    "for i in range(1, 20):\n",
    "    kmeans = KMeans(n_clusters = i, init = 'k-means++', random_state = 42)\n",
    "    kmeans.fit(X.values)\n",
    "    wcss.append(kmeans.inertia_)\n",
    "\n",
    "plt.figure()    \n",
    "plt.plot(range(1, 20), wcss)\n",
    "plt.title('The Elbow Method')\n",
    "plt.xlabel('Number of clusters')\n",
    "plt.ylabel('WCSS')\n",
    "plt.show()\n",
    "\n",
    "# Fitting K-Means to the dataset\n",
    "kmeans = KMeans(n_clusters = 3, init = 'k-means++', random_state = 42)\n",
    "y_kmeans = kmeans.fit_predict(X.values)\n",
    "\n",
    "Train_RR['cluster'] = y_kmeans\n",
    "Train_RR_NOT_Null = Train_RR[Train_RR['RR'].isnull() == False]\n",
    "\n",
    "print(\"Cross Validating with median\")\n",
    "y = Train_RR_NOT_Null.groupby(\"cluster\")[\"RR\"].transform(lambda x: x.median())\n",
    "meanSquaredError=sqrt(mean_squared_error(y,Train_RR_NOT_Null['RR']))\n",
    "print(meanSquaredError)\n",
    "\n",
    "print(\"Cross Validating with mean\")\n",
    "y = Train_RR_NOT_Null.groupby(\"cluster\")[\"RR\"].transform(lambda x: x.mean())\n",
    "meanSquaredError=sqrt(mean_squared_error(y,Train_RR_NOT_Null['RR']))\n",
    "print(meanSquaredError)\n",
    "\n",
    "# Train_RR['cluster'] = y_kmeans\n",
    "# Train_RR['RR'] = Train_RR.groupby(\"cluster\")[\"RR\"].transform(lambda x: x.fillna(x.median()))\n"
   ]
  },
  {
   "cell_type": "code",
   "execution_count": 125,
   "metadata": {},
   "outputs": [
    {
     "data": {
      "text/plain": [
       "[<matplotlib.lines.Line2D at 0x179b03df4a8>]"
      ]
     },
     "execution_count": 125,
     "metadata": {},
     "output_type": "execute_result"
    },
    {
     "data": {
      "image/png": "[encoded data removed]",
      "text/plain": [
       "<Figure size 432x288 with 1 Axes>"
      ]
     },
     "metadata": {},
     "output_type": "display_data"
    }
   ],
   "source": [
    "plt.plot(Train_RR['RR'])"
   ]
  },
  {
   "cell_type": "code",
   "execution_count": 91,
   "metadata": {},
   "outputs": [
    {
     "name": "stderr",
     "output_type": "stream",
     "text": [
      "C:\\ProgramData\\Anaconda3\\lib\\site-packages\\ipykernel_launcher.py:1: SettingWithCopyWarning: \n",
      "A value is trying to be set on a copy of a slice from a DataFrame.\n",
      "Try using .loc[row_indexer,col_indexer] = value instead\n",
      "\n",
      "See the caveats in the documentation: http://pandas.pydata.org/pandas-docs/stable/indexing.html#indexing-view-versus-copy\n",
      "  \"\"\"Entry point for launching an IPython kernel.\n"
     ]
    }
   ],
   "source": [
    "Train_RR['RR'] = Train_RR.groupby(\"cluster\")['RR'].transform(lambda x: x.fillna(x.mean()))\n",
    "Train_df['RR'] = Train_RR['RR']\n",
    "Train['RR'] = Train_df['RR']"
   ]
  },
  {
   "cell_type": "markdown",
   "metadata": {},
   "source": [
    "## Filling DEM Values"
   ]
  },
  {
   "cell_type": "code",
   "execution_count": 92,
   "metadata": {},
   "outputs": [
    {
     "name": "stderr",
     "output_type": "stream",
     "text": [
      "C:\\ProgramData\\Anaconda3\\lib\\site-packages\\ipykernel_launcher.py:21: SettingWithCopyWarning: \n",
      "A value is trying to be set on a copy of a slice from a DataFrame.\n",
      "Try using .loc[row_indexer,col_indexer] = value instead\n",
      "\n",
      "See the caveats in the documentation: http://pandas.pydata.org/pandas-docs/stable/indexing.html#indexing-view-versus-copy\n"
     ]
    },
    {
     "data": {
      "image/png": "[encoded data removed]",
      "text/plain": [
       "<Figure size 432x288 with 2 Axes>"
      ]
     },
     "metadata": {},
     "output_type": "display_data"
    },
    {
     "data": {
      "image/png": "[encoded data removed]",
      "text/plain": [
       "<Figure size 432x288 with 1 Axes>"
      ]
     },
     "metadata": {},
     "output_type": "display_data"
    },
    {
     "name": "stdout",
     "output_type": "stream",
     "text": [
      "Cross Validating with median\n",
      "0.09211718133688705\n",
      "Cross Validating with mean\n",
      "0.08859892603106137\n"
     ]
    },
    {
     "name": "stderr",
     "output_type": "stream",
     "text": [
      "C:\\ProgramData\\Anaconda3\\lib\\site-packages\\ipykernel_launcher.py:42: SettingWithCopyWarning: \n",
      "A value is trying to be set on a copy of a slice from a DataFrame.\n",
      "Try using .loc[row_indexer,col_indexer] = value instead\n",
      "\n",
      "See the caveats in the documentation: http://pandas.pydata.org/pandas-docs/stable/indexing.html#indexing-view-versus-copy\n"
     ]
    }
   ],
   "source": [
    "# Lets's separate the data set having missing values\n",
    "Train_DEM = Train[['Region','Value','Age','gender','DMS','DRT','RL','RR','DEM','Speciality_ID']]\n",
    "Train_DEM['gender'].fillna('Male')\n",
    "Train_DEM_Null = Train_DEM[Train_DEM['DEM'].isnull()]\n",
    "Train_DEM_NOT_Null = Train_DEM[Train_DEM['DEM'].isnull() == False]\n",
    "\n",
    "\n",
    "# Import Seaborn as sns\n",
    "import seaborn as sns\n",
    "corr = Train_RR.corr()\n",
    "sns.heatmap(corr, \n",
    "        xticklabels=corr.columns,\n",
    "        yticklabels=corr.columns)\n",
    "# No correlation So let's carry out other methods \n",
    "# Mapping categorical variables. I don't think there is need of one hot encoding as the categorival data seems to be ordinal here.\n",
    "\n",
    "cols = ['Region','Value','gender']\n",
    "from sklearn.preprocessing import LabelEncoder\n",
    "for x in cols:\n",
    "    lbl = LabelEncoder()\n",
    "    Train_DEM[x]=lbl.fit_transform(Train_DEM[x].astype(str))\n",
    "X = Train_DEM[['Region','Value','Age','gender','DMS','DRT','RL','RR','Speciality_ID']]\n",
    "\n",
    "from sklearn.cluster import KMeans\n",
    "wcss = []\n",
    "for i in range(1, 11):\n",
    "    kmeans = KMeans(n_clusters = i, init = 'k-means++', random_state = 42)\n",
    "    kmeans.fit(X.values)\n",
    "    wcss.append(kmeans.inertia_)\n",
    "\n",
    "plt.figure()    \n",
    "plt.plot(range(1, 11), wcss)\n",
    "plt.title('The Elbow Method')\n",
    "plt.xlabel('Number of clusters')\n",
    "plt.ylabel('WCSS')\n",
    "plt.show()\n",
    "\n",
    "#Fitting K-Means to the dataset\n",
    "kmeans = KMeans(n_clusters = 3, init = 'k-means++', random_state = 42)\n",
    "y_kmeans = kmeans.fit_predict(X.values)\n",
    "\n",
    "Train_DEM['cluster'] = y_kmeans\n",
    "Train_DEM_NOT_Null = Train_DEM[Train_DEM['DEM'].isnull() == False]\n",
    "\n",
    "print(\"Cross Validating with median\")\n",
    "y = Train_DEM_NOT_Null.groupby(\"cluster\")[\"DEM\"].transform(lambda x: x.median())\n",
    "meanSquaredError=sqrt(mean_squared_error(y,Train_DEM_NOT_Null['DEM']))\n",
    "print(meanSquaredError)\n",
    "\n",
    "print(\"Cross Validating with mean\")\n",
    "y = Train_DEM_NOT_Null.groupby(\"cluster\")[\"DEM\"].transform(lambda x: x.mean())\n",
    "meanSquaredError=sqrt(mean_squared_error(y,Train_DEM_NOT_Null['DEM']))\n",
    "print(meanSquaredError)"
   ]
  },
  {
   "cell_type": "code",
   "execution_count": 126,
   "metadata": {},
   "outputs": [
    {
     "data": {
      "text/plain": [
       "[<matplotlib.lines.Line2D at 0x179ad211898>]"
      ]
     },
     "execution_count": 126,
     "metadata": {},
     "output_type": "execute_result"
    },
    {
     "data": {
      "image/png": "[encoded data removed]",
      "text/plain": [
       "<Figure size 432x288 with 1 Axes>"
      ]
     },
     "metadata": {},
     "output_type": "display_data"
    }
   ],
   "source": [
    "plt.plot(Train_DEM['DEM'])"
   ]
  },
  {
   "cell_type": "code",
   "execution_count": 94,
   "metadata": {},
   "outputs": [
    {
     "name": "stderr",
     "output_type": "stream",
     "text": [
      "C:\\ProgramData\\Anaconda3\\lib\\site-packages\\ipykernel_launcher.py:1: SettingWithCopyWarning: \n",
      "A value is trying to be set on a copy of a slice from a DataFrame.\n",
      "Try using .loc[row_indexer,col_indexer] = value instead\n",
      "\n",
      "See the caveats in the documentation: http://pandas.pydata.org/pandas-docs/stable/indexing.html#indexing-view-versus-copy\n",
      "  \"\"\"Entry point for launching an IPython kernel.\n"
     ]
    }
   ],
   "source": [
    "Train_DEM['DEM'] = Train_DEM.groupby(\"cluster\")['DEM'].transform(lambda x: x.fillna(x.mean()))\n",
    "Train_df['DEM'] = Train_DEM['DEM']\n",
    "Train['DEM'] = Train_df['DEM']"
   ]
  },
  {
   "cell_type": "markdown",
   "metadata": {},
   "source": [
    "## Filling OLA Values"
   ]
  },
  {
   "cell_type": "code",
   "execution_count": 95,
   "metadata": {},
   "outputs": [
    {
     "name": "stderr",
     "output_type": "stream",
     "text": [
      "C:\\ProgramData\\Anaconda3\\lib\\site-packages\\ipykernel_launcher.py:21: SettingWithCopyWarning: \n",
      "A value is trying to be set on a copy of a slice from a DataFrame.\n",
      "Try using .loc[row_indexer,col_indexer] = value instead\n",
      "\n",
      "See the caveats in the documentation: http://pandas.pydata.org/pandas-docs/stable/indexing.html#indexing-view-versus-copy\n"
     ]
    },
    {
     "data": {
      "image/png": "[encoded data removed]",
      "text/plain": [
       "<Figure size 432x288 with 2 Axes>"
      ]
     },
     "metadata": {},
     "output_type": "display_data"
    },
    {
     "data": {
      "image/png": "[encoded data removed]",
      "text/plain": [
       "<Figure size 432x288 with 1 Axes>"
      ]
     },
     "metadata": {},
     "output_type": "display_data"
    },
    {
     "name": "stdout",
     "output_type": "stream",
     "text": [
      "Cross Validating with median\n",
      "0.11333090031939873\n",
      "Cross Validating with mean\n",
      "0.11305918107705622\n"
     ]
    },
    {
     "name": "stderr",
     "output_type": "stream",
     "text": [
      "C:\\ProgramData\\Anaconda3\\lib\\site-packages\\ipykernel_launcher.py:42: SettingWithCopyWarning: \n",
      "A value is trying to be set on a copy of a slice from a DataFrame.\n",
      "Try using .loc[row_indexer,col_indexer] = value instead\n",
      "\n",
      "See the caveats in the documentation: http://pandas.pydata.org/pandas-docs/stable/indexing.html#indexing-view-versus-copy\n"
     ]
    }
   ],
   "source": [
    "# Lets's separate the data set having missing values\n",
    "Train_OLA = Train[['Region','Value','Age','gender','DMS','DRT','RL','RR','DEM','OLA','Speciality_ID']]\n",
    "Train_OLA['gender'].fillna('Male')\n",
    "Train_OLA_Null = Train_OLA[Train_OLA['OLA'].isnull()]\n",
    "Train_OLA_NOT_Null = Train_OLA[Train_OLA['OLA'].isnull() == False]\n",
    "\n",
    "\n",
    "# Import Seaborn as sns\n",
    "import seaborn as sns\n",
    "corr = Train_OLA.corr()\n",
    "sns.heatmap(corr, \n",
    "        xticklabels=corr.columns,\n",
    "        yticklabels=corr.columns)\n",
    "# Few columns have correlation \n",
    "# Mapping categorical variables. I don't think there is need of one hot encoding as the categorival data seems to be ordinal here.\n",
    "\n",
    "cols = ['Region','Value','gender']\n",
    "from sklearn.preprocessing import LabelEncoder\n",
    "for x in cols:\n",
    "    lbl = LabelEncoder()\n",
    "    Train_OLA[x]=lbl.fit_transform(Train_DEM[x].astype(str))\n",
    "X = Train_OLA[['Region','Value','Age','gender','DMS','DRT','RL','RR','DEM','Speciality_ID']]\n",
    "\n",
    "from sklearn.cluster import KMeans\n",
    "wcss = []\n",
    "for i in range(1, 11):\n",
    "    kmeans = KMeans(n_clusters = i, init = 'k-means++', random_state = 42)\n",
    "    kmeans.fit(X.values)\n",
    "    wcss.append(kmeans.inertia_)\n",
    "\n",
    "plt.figure()    \n",
    "plt.plot(range(1, 11), wcss)\n",
    "plt.title('The Elbow Method')\n",
    "plt.xlabel('Number of clusters')\n",
    "plt.ylabel('WCSS')\n",
    "plt.show()\n",
    "\n",
    "# #Fitting K-Means to the dataset\n",
    "kmeans = KMeans(n_clusters = 3, init = 'k-means++', random_state = 42)\n",
    "y_kmeans = kmeans.fit_predict(X.values)\n",
    "\n",
    "Train_OLA['cluster'] = y_kmeans\n",
    "Train_OLA_NOT_Null = Train_OLA[Train_OLA['OLA'].isnull() == False]\n",
    "\n",
    "print(\"Cross Validating with median\")\n",
    "y = Train_OLA_NOT_Null.groupby(\"cluster\")[\"OLA\"].transform(lambda x: x.median())\n",
    "meanSquaredError=sqrt(mean_squared_error(y,Train_OLA_NOT_Null['OLA']))\n",
    "print(meanSquaredError)\n",
    "\n",
    "print(\"Cross Validating with mean\")\n",
    "y = Train_OLA_NOT_Null.groupby(\"cluster\")[\"OLA\"].transform(lambda x: x.mean())\n",
    "meanSquaredError=sqrt(mean_squared_error(y,Train_OLA_NOT_Null['OLA']))\n",
    "print(meanSquaredError)"
   ]
  },
  {
   "cell_type": "code",
   "execution_count": 127,
   "metadata": {},
   "outputs": [
    {
     "data": {
      "text/plain": [
       "[<matplotlib.lines.Line2D at 0x179b1a915c0>]"
      ]
     },
     "execution_count": 127,
     "metadata": {},
     "output_type": "execute_result"
    },
    {
     "data": {
      "image/png": "[encoded data removed]",
      "text/plain": [
       "<Figure size 432x288 with 1 Axes>"
      ]
     },
     "metadata": {},
     "output_type": "display_data"
    }
   ],
   "source": [
    "plt.plot(Train_OLA['OLA'])"
   ]
  },
  {
   "cell_type": "code",
   "execution_count": 97,
   "metadata": {},
   "outputs": [
    {
     "name": "stderr",
     "output_type": "stream",
     "text": [
      "C:\\ProgramData\\Anaconda3\\lib\\site-packages\\ipykernel_launcher.py:1: SettingWithCopyWarning: \n",
      "A value is trying to be set on a copy of a slice from a DataFrame.\n",
      "Try using .loc[row_indexer,col_indexer] = value instead\n",
      "\n",
      "See the caveats in the documentation: http://pandas.pydata.org/pandas-docs/stable/indexing.html#indexing-view-versus-copy\n",
      "  \"\"\"Entry point for launching an IPython kernel.\n"
     ]
    }
   ],
   "source": [
    "Train_OLA['OLA'] = Train_OLA.groupby(\"cluster\")['OLA'].transform(lambda x: x.fillna(x.mean()))\n",
    "Train_df['OLA'] = Train_OLA['OLA']\n",
    "Train['OLA'] = Train_df['OLA']"
   ]
  },
  {
   "cell_type": "markdown",
   "metadata": {},
   "source": [
    "## Filling OLV Values"
   ]
  },
  {
   "cell_type": "code",
   "execution_count": 98,
   "metadata": {},
   "outputs": [
    {
     "name": "stderr",
     "output_type": "stream",
     "text": [
      "C:\\ProgramData\\Anaconda3\\lib\\site-packages\\ipykernel_launcher.py:21: SettingWithCopyWarning: \n",
      "A value is trying to be set on a copy of a slice from a DataFrame.\n",
      "Try using .loc[row_indexer,col_indexer] = value instead\n",
      "\n",
      "See the caveats in the documentation: http://pandas.pydata.org/pandas-docs/stable/indexing.html#indexing-view-versus-copy\n"
     ]
    },
    {
     "data": {
      "image/png": "[encoded data removed]",
      "text/plain": [
       "<Figure size 432x288 with 2 Axes>"
      ]
     },
     "metadata": {},
     "output_type": "display_data"
    },
    {
     "data": {
      "image/png": "[encoded data removed]",
      "text/plain": [
       "<Figure size 432x288 with 1 Axes>"
      ]
     },
     "metadata": {},
     "output_type": "display_data"
    },
    {
     "name": "stdout",
     "output_type": "stream",
     "text": [
      "Cross Validating with median\n",
      "0.13895722385509213\n",
      "Cross Validating with mean\n",
      "0.190051885229197\n"
     ]
    },
    {
     "name": "stderr",
     "output_type": "stream",
     "text": [
      "C:\\ProgramData\\Anaconda3\\lib\\site-packages\\ipykernel_launcher.py:42: SettingWithCopyWarning: \n",
      "A value is trying to be set on a copy of a slice from a DataFrame.\n",
      "Try using .loc[row_indexer,col_indexer] = value instead\n",
      "\n",
      "See the caveats in the documentation: http://pandas.pydata.org/pandas-docs/stable/indexing.html#indexing-view-versus-copy\n"
     ]
    }
   ],
   "source": [
    "# Lets's separate the data set having missing values\n",
    "Train_OLV = Train[['Region','Value','Age','gender','DMS','DRT','RL','RR','DEM','OLA','OLV','Speciality_ID']]\n",
    "Train_OLV['gender'].fillna('Male')\n",
    "Train_OLV_Null = Train_OLV[Train_OLV['OLV'].isnull()]\n",
    "Train_OLV_NOT_Null = Train_OLV[Train_OLV['OLV'].isnull() == False]\n",
    "\n",
    "\n",
    "# Import Seaborn as sns\n",
    "import seaborn as sns\n",
    "corr = Train_OLV.corr()\n",
    "sns.heatmap(corr, \n",
    "        xticklabels=corr.columns,\n",
    "        yticklabels=corr.columns)\n",
    "# No correlation So let's carry out other methods \n",
    "# Mapping categorical variables. I don't think there is need of one hot encoding as the categorival data seems to be ordinal here.\n",
    "\n",
    "cols = ['Region','Value','gender']\n",
    "from sklearn.preprocessing import LabelEncoder\n",
    "for x in cols:\n",
    "    lbl = LabelEncoder()\n",
    "    Train_OLV[x]=lbl.fit_transform(Train_OLV[x].astype(str))\n",
    "X = Train_OLV[['Region','Value','Age','gender','DMS','DRT','RL','RR','DEM','OLA','Speciality_ID']]\n",
    "\n",
    "from sklearn.cluster import KMeans\n",
    "wcss = []\n",
    "for i in range(1, 11):\n",
    "    kmeans = KMeans(n_clusters = i, init = 'k-means++', random_state = 42)\n",
    "    kmeans.fit(X.values)\n",
    "    wcss.append(kmeans.inertia_)\n",
    "\n",
    "plt.figure()    \n",
    "plt.plot(range(1, 11), wcss)\n",
    "plt.title('The Elbow Method')\n",
    "plt.xlabel('Number of clusters')\n",
    "plt.ylabel('WCSS')\n",
    "plt.show()\n",
    "\n",
    "# #Fitting K-Means to the dataset\n",
    "kmeans = KMeans(n_clusters = 3, init = 'k-means++', random_state = 42)\n",
    "y_kmeans = kmeans.fit_predict(X.values)\n",
    "\n",
    "Train_OLV['cluster'] = y_kmeans\n",
    "Train_OLV_NOT_Null = Train_OLV[Train_OLV['OLV'].isnull() == False]\n",
    "\n",
    "print(\"Cross Validating with median\")\n",
    "y = Train_OLV_NOT_Null.groupby(\"cluster\")[\"OLV\"].transform(lambda x: x.median())\n",
    "meanSquaredError=sqrt(mean_squared_error(y,Train_OLV_NOT_Null['OLA']))\n",
    "print(meanSquaredError)\n",
    "\n",
    "print(\"Cross Validating with mean\")\n",
    "y = Train_OLV_NOT_Null.groupby(\"cluster\")[\"OLV\"].transform(lambda x: x.mean())\n",
    "meanSquaredError=sqrt(mean_squared_error(y,Train_OLV_NOT_Null['OLV']))\n",
    "print(meanSquaredError)"
   ]
  },
  {
   "cell_type": "code",
   "execution_count": 128,
   "metadata": {},
   "outputs": [
    {
     "data": {
      "text/plain": [
       "[<matplotlib.lines.Line2D at 0x179b1aef2e8>]"
      ]
     },
     "execution_count": 128,
     "metadata": {},
     "output_type": "execute_result"
    },
    {
     "data": {
      "image/png": "[encoded data removed]",
      "text/plain": [
       "<Figure size 432x288 with 1 Axes>"
      ]
     },
     "metadata": {},
     "output_type": "display_data"
    }
   ],
   "source": [
    "plt.plot(Train_OLV['OLV'])"
   ]
  },
  {
   "cell_type": "code",
   "execution_count": 99,
   "metadata": {},
   "outputs": [
    {
     "name": "stderr",
     "output_type": "stream",
     "text": [
      "C:\\ProgramData\\Anaconda3\\lib\\site-packages\\ipykernel_launcher.py:1: SettingWithCopyWarning: \n",
      "A value is trying to be set on a copy of a slice from a DataFrame.\n",
      "Try using .loc[row_indexer,col_indexer] = value instead\n",
      "\n",
      "See the caveats in the documentation: http://pandas.pydata.org/pandas-docs/stable/indexing.html#indexing-view-versus-copy\n",
      "  \"\"\"Entry point for launching an IPython kernel.\n"
     ]
    }
   ],
   "source": [
    "Train_OLV['OLV'] = Train_OLV.groupby(\"cluster\")['OLV'].transform(lambda x: x.fillna(x.mean()))\n",
    "Train_df['OLV'] = Train_OLV['OLV']\n",
    "Train['OLV'] = Train_df['OLV']"
   ]
  },
  {
   "cell_type": "markdown",
   "metadata": {},
   "source": [
    "## Filling P2P VAlues"
   ]
  },
  {
   "cell_type": "code",
   "execution_count": 100,
   "metadata": {},
   "outputs": [
    {
     "name": "stderr",
     "output_type": "stream",
     "text": [
      "C:\\ProgramData\\Anaconda3\\lib\\site-packages\\ipykernel_launcher.py:21: SettingWithCopyWarning: \n",
      "A value is trying to be set on a copy of a slice from a DataFrame.\n",
      "Try using .loc[row_indexer,col_indexer] = value instead\n",
      "\n",
      "See the caveats in the documentation: http://pandas.pydata.org/pandas-docs/stable/indexing.html#indexing-view-versus-copy\n"
     ]
    },
    {
     "data": {
      "image/png": "[encoded data removed]",
      "text/plain": [
       "<Figure size 432x288 with 2 Axes>"
      ]
     },
     "metadata": {},
     "output_type": "display_data"
    },
    {
     "data": {
      "image/png": "[encoded data removed]",
      "text/plain": [
       "<Figure size 432x288 with 1 Axes>"
      ]
     },
     "metadata": {},
     "output_type": "display_data"
    },
    {
     "name": "stdout",
     "output_type": "stream",
     "text": [
      "Cross Validating with median\n",
      "0.18803895064032597\n",
      "Cross Validating with mean\n",
      "0.17829573067329427\n"
     ]
    }
   ],
   "source": [
    "# Lets's separate the data set having missing values\n",
    "Train_P2P = Train[['Region','Value','Age','gender','DMS','DRT','RL','RR','DEM','OLA','OLV','P2P','Speciality_ID']]\n",
    "Train_P2P['gender'].fillna('Male')\n",
    "Train_P2P_Null = Train_P2P[Train_P2P['P2P'].isnull()]\n",
    "Train_P2P_NOT_Null = Train_P2P[Train_P2P['P2P'].isnull() == False]\n",
    "\n",
    "\n",
    "# Import Seaborn as sns\n",
    "import seaborn as sns\n",
    "corr = Train_P2P.corr()\n",
    "sns.heatmap(corr, \n",
    "        xticklabels=corr.columns,\n",
    "        yticklabels=corr.columns)\n",
    "# No correlation So let's carry out other methods \n",
    "# Mapping categorical variables. I don't think there is need of one hot encoding as the categorival data seems to be ordinal here.\n",
    "\n",
    "cols = ['Region','Value','gender']\n",
    "from sklearn.preprocessing import LabelEncoder\n",
    "for x in cols:\n",
    "    lbl = LabelEncoder()\n",
    "    Train_P2P[x]=lbl.fit_transform(Train_P2P[x].astype(str))\n",
    "X = Train_P2P[['Region','Value','Age','gender','DMS','DRT','RL','RR','DEM','OLA','OLV','Speciality_ID']]\n",
    "\n",
    "from sklearn.cluster import KMeans\n",
    "wcss = []\n",
    "for i in range(1, 11):\n",
    "    kmeans = KMeans(n_clusters = i, init = 'k-means++', random_state = 42)\n",
    "    kmeans.fit(X.values)\n",
    "    wcss.append(kmeans.inertia_)\n",
    "\n",
    "plt.figure()    \n",
    "plt.plot(range(1, 11), wcss)\n",
    "plt.title('The Elbow Method')\n",
    "plt.xlabel('Number of clusters')\n",
    "plt.ylabel('WCSS')\n",
    "plt.show()\n",
    "\n",
    "#Fitting K-Means to the dataset\n",
    "kmeans = KMeans(n_clusters = 3, init = 'k-means++', random_state = 42)\n",
    "y_kmeans = kmeans.fit_predict(X.values)\n",
    "\n",
    "Train_P2P['cluster'] = y_kmeans\n",
    "Train_P2P_NOT_Null = Train_P2P[Train_P2P['P2P'].isnull() == False]\n",
    "\n",
    "print(\"Cross Validating with median\")\n",
    "y = Train_P2P_NOT_Null.groupby(\"cluster\")[\"P2P\"].transform(lambda x: x.median())\n",
    "meanSquaredError=sqrt(mean_squared_error(y,Train_P2P_NOT_Null['P2P']))\n",
    "print(meanSquaredError)\n",
    "\n",
    "print(\"Cross Validating with mean\")\n",
    "y = Train_P2P_NOT_Null.groupby(\"cluster\")[\"P2P\"].transform(lambda x: x.mean())\n",
    "meanSquaredError=sqrt(mean_squared_error(y,Train_P2P_NOT_Null['P2P']))\n",
    "print(meanSquaredError)"
   ]
  },
  {
   "cell_type": "code",
   "execution_count": 129,
   "metadata": {},
   "outputs": [
    {
     "data": {
      "text/plain": [
       "[<matplotlib.lines.Line2D at 0x179b1b86fd0>]"
      ]
     },
     "execution_count": 129,
     "metadata": {},
     "output_type": "execute_result"
    },
    {
     "data": {
      "image/png": "[encoded data removed]",
      "text/plain": [
       "<Figure size 432x288 with 1 Axes>"
      ]
     },
     "metadata": {},
     "output_type": "display_data"
    }
   ],
   "source": [
    "plt.plot(Train_P2P['P2P'])"
   ]
  },
  {
   "cell_type": "code",
   "execution_count": 101,
   "metadata": {},
   "outputs": [],
   "source": [
    "Train_P2P['P2P'] = Train_P2P.groupby(\"cluster\")['P2P'].transform(lambda x: x.fillna(x.mean()))\n",
    "Train_df['P2P'] = Train_P2P['P2P']\n",
    "Train['P2P'] = Train_df['P2P']"
   ]
  },
  {
   "cell_type": "markdown",
   "metadata": {},
   "source": [
    " The error which I am calculating below is not the cross validation error what I am doing is ** I used K-Means clustering ** and    assigned clusters to each row/sample then to fill the null values I take mean/median and to cross check the error ** I again calculated the values of columns which have no null values using mean/median and then calculated the error  from its original value.**"
   ]
  },
  {
   "cell_type": "code",
   "execution_count": 130,
   "metadata": {},
   "outputs": [
    {
     "name": "stdout",
     "output_type": "stream",
     "text": [
      "0.3407647055352389\n"
     ]
    }
   ],
   "source": [
    "#Calculating RMSE\n",
    "RMSE = [0.183, 0.178, 0.138, 0.196, 0.094, 0.174, 0.103, 0.0866]\n",
    "Values = [4849, 29136, 17027, 9648, 4492, 4379, 11170, 111040]\n",
    "MUl = [RMSE*Values for RMSE,Values in zip(RMSE,Values)]\n",
    "rmse = sqrt( sum(MUl) / sum(Values))\n",
    "print(rmse)"
   ]
  },
  {
   "cell_type": "markdown",
   "metadata": {},
   "source": [
    "## Submission File"
   ]
  },
  {
   "cell_type": "code",
   "execution_count": 131,
   "metadata": {},
   "outputs": [],
   "source": [
    "sub_temp = Submission\n"
   ]
  },
  {
   "cell_type": "code",
   "execution_count": 132,
   "metadata": {},
   "outputs": [],
   "source": [
    "sub_temp['RL'] = Train_df['RL']\n",
    "sub_temp['RR'] = Train_df['RR']\n",
    "sub_temp['DEM'] = Train_df['DEM']\n",
    "sub_temp['P2P'] = Train_df['P2P']\n",
    "sub_temp['DRT'] = Train_df['DRT']\n",
    "sub_temp['DMS'] = Train_df['DMS']\n",
    "sub_temp['OLV'] = Train_df['OLV']\n",
    "sub_temp['OLA'] = Train_df['OLA']"
   ]
  },
  {
   "cell_type": "code",
   "execution_count": 134,
   "metadata": {},
   "outputs": [],
   "source": [
    "sub_temp.to_csv('Abhinav_Jain_14031997.csv' , index = False)"
   ]
  },
  {
   "cell_type": "markdown",
   "metadata": {},
   "source": [
    "## Another Appraoch\n",
    "\n",
    "Another Appraoch I used the KNN Imputation Method but it needs headvy computation and while running my system got hanged that's why I was not able to use that."
   ]
  },
  {
   "cell_type": "code",
   "execution_count": null,
   "metadata": {},
   "outputs": [],
   "source": []
  }
 ],
 "metadata": {
  "kernelspec": {
   "display_name": "Python 3",
   "language": "python",
   "name": "python3"
  },
  "language_info": {
   "codemirror_mode": {
    "name": "ipython",
    "version": 3
   },
   "file_extension": ".py",
   "mimetype": "text/x-python",
   "name": "python",
   "nbconvert_exporter": "python",
   "pygments_lexer": "ipython3",
   "version": "3.6.5"
  }
 },
 "nbformat": 4,
 "nbformat_minor": 2
}
